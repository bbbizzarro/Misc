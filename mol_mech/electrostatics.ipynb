{
 "cells": [
  {
   "cell_type": "code",
   "execution_count": 1,
   "metadata": {},
   "outputs": [],
   "source": [
    "import numpy as np\n",
    "import numpy.linalg as LA"
   ]
  },
  {
   "cell_type": "code",
   "execution_count": 2,
   "metadata": {},
   "outputs": [],
   "source": [
    "class Molecule:\n",
    "    \n",
    "    def __init__(self, species, pos, charge=0):\n",
    "        self.species = species\n",
    "        self.pos     = pos #in Angstroms\n",
    "        self.charge  = charge\n",
    "\n",
    "def elec(mon_a, mon_b, units=None, sigfigs=3): \n",
    "    # https://en.wikipedia.org/wiki/Vacuum_permittivity\n",
    "    k_e = 1 / (4 * np.pi * 8.854187817e-12)\n",
    "    r_ij = LA.norm(np.array(mon_a.pos) - np.array(mon_b.pos))\n",
    "        \n",
    "    # Unit conversions\n",
    "    if units == 'kj/mol':\n",
    "        energy_conv = 1e-3 * 6.0221409e23\n",
    "    else:\n",
    "        energy_conv =  2.39006e-4 * 6.0221409e23  \n",
    "    m_to_A = 1e10\n",
    "    e_charge = 1.602e-19\n",
    "    conv_factor = energy_conv * m_to_A * e_charge**2\n",
    "    \n",
    "    energy = conv_factor * k_e * mon_a.charge * mon_b.charge / r_ij\n",
    "    \n",
    "    return \"{1:.{0}e}\".format(sigfigs-1, energy)\n",
    "\n",
    "    "
   ]
  },
  {
   "cell_type": "code",
   "execution_count": 3,
   "metadata": {},
   "outputs": [
    {
     "data": {
      "text/plain": [
       "'-5.89e+02'"
      ]
     },
     "execution_count": 3,
     "metadata": {},
     "output_type": "execute_result"
    }
   ],
   "source": [
    "Na = Molecule('Na', np.array([0, 0, 0]), charge=1)\n",
    "Cl = Molecule('Cl', np.array([2.36, 0, 0]), charge=-1)\n",
    "elec(Na, Cl, units='kj/mol')"
   ]
  },
  {
   "cell_type": "code",
   "execution_count": null,
   "metadata": {},
   "outputs": [],
   "source": []
  }
 ],
 "metadata": {
  "kernelspec": {
   "display_name": "Python 3",
   "language": "python",
   "name": "python3"
  },
  "language_info": {
   "codemirror_mode": {
    "name": "ipython",
    "version": 3
   },
   "file_extension": ".py",
   "mimetype": "text/x-python",
   "name": "python",
   "nbconvert_exporter": "python",
   "pygments_lexer": "ipython3",
   "version": "3.7.1"
  }
 },
 "nbformat": 4,
 "nbformat_minor": 2
}
